{
 "cells": [
  {
   "cell_type": "code",
   "execution_count": 1,
   "id": "e5c3aed7-25ff-44e5-a0b2-13c0cbc0a2d5",
   "metadata": {},
   "outputs": [],
   "source": [
    "import numpy as np\n",
    "import pandas as pd\n",
    "import os\n",
    "import matplotlib.pyplot as plt\n",
    "import seaborn as sns"
   ]
  },
  {
   "cell_type": "code",
   "execution_count": 2,
   "id": "135a5307-9991-40d4-969c-2e43b0dc508f",
   "metadata": {},
   "outputs": [],
   "source": [
    "# Load the data\n",
    "df_diet = pd.read_csv('Results_21Mar2022.csv')"
   ]
  },
  {
   "cell_type": "code",
   "execution_count": 3,
   "id": "8fa1b2a1-cfa7-42b6-a686-642b8aac130d",
   "metadata": {},
   "outputs": [
    {
     "data": {
      "text/plain": [
       "{'Missing Values': Series([], dtype: int64),\n",
       " 'Number of Duplicate Rows': 0,\n",
       " 'Description (for outlier detection)':           mc_run_id     mean_ghgs     mean_land  mean_watscar      mean_eut  \\\n",
       " count  72000.000000  72000.000000  72000.000000  72000.000000  72000.000000   \n",
       " mean     500.500000      6.173568     10.610860  18324.502556     24.619412   \n",
       " std      288.676995      3.090398      8.774950   5761.426137     10.440526   \n",
       " min        1.000000      1.878054      3.085156   5581.200606      7.403603   \n",
       " 25%      250.750000      4.272191      5.833910  14473.366153     17.490146   \n",
       " 50%      500.500000      5.460742      7.634004  17340.934265     22.741543   \n",
       " 75%      750.250000      7.498673     11.766317  20962.489797     30.143916   \n",
       " max     1000.000000     20.543958     74.490099  57642.741520     85.043624   \n",
       " \n",
       "        mean_ghgs_ch4  mean_ghgs_n2o      mean_bio   mean_watuse     mean_acid  \\\n",
       " count   72000.000000   72000.000000  72000.000000  72000.000000  72000.000000   \n",
       " mean        1.137918       0.437283    274.693823    739.712660     27.552727   \n",
       " std         0.773895       0.225046    158.917024    318.236794     11.631872   \n",
       " min         0.065370       0.123047     54.748545    192.729916      7.466161   \n",
       " 25%         0.664186       0.279034    163.291618    541.813501     21.159961   \n",
       " 50%         0.978820       0.371027    232.676491    692.166596     25.561232   \n",
       " 75%         1.492675       0.529600    345.247131    859.515193     33.688857   \n",
       " max         5.376923       1.508414   1426.913345   3333.230647     76.266195   \n",
       " \n",
       "             sd_ghgs       sd_land    sd_watscar        sd_eut   sd_ghgs_ch4  \\\n",
       " count  72000.000000  72000.000000  72000.000000  72000.000000  72000.000000   \n",
       " mean       2.122985      4.790976   7965.808116      7.705817      0.523346   \n",
       " std        1.281355      5.685913   4738.740090      3.495072      0.356864   \n",
       " min        0.510023      1.013332   1961.905132      2.032834      0.037529   \n",
       " 25%        1.407416      1.975443   5497.338713      5.931354      0.311368   \n",
       " 50%        1.748698      2.743017   6631.506037      7.003451      0.397751   \n",
       " 75%        2.385814      4.789304   8476.013456      8.524474      0.680099   \n",
       " max       11.322617     57.001158  65377.989110     46.722319      3.197389   \n",
       " \n",
       "         sd_ghgs_n2o        sd_bio     sd_watuse       sd_acid  n_participants  \n",
       " count  72000.000000  72000.000000  72000.000000  72000.000000    72000.000000  \n",
       " mean       0.161327    154.572597    330.070563      8.544557      770.888889  \n",
       " std        0.086156    125.348736    243.793503      2.812237      830.476694  \n",
       " min        0.038554     21.774227     62.224116      2.463158       19.000000  \n",
       " 25%        0.104523     72.598210    199.477119      7.414466      210.000000  \n",
       " 50%        0.139102    107.162915    258.216127      8.226186      440.000000  \n",
       " 75%        0.190786    190.312943    363.373866      9.223864      982.500000  \n",
       " max        0.660292    852.387856   2897.540323     29.240519     3752.000000  ,\n",
       " 'Skewness': mc_run_id         0.000000\n",
       " mean_ghgs         1.327430\n",
       " mean_land         3.075918\n",
       " mean_watscar      1.387996\n",
       " mean_eut          0.849237\n",
       " mean_ghgs_ch4     1.018588\n",
       " mean_ghgs_n2o     1.403062\n",
       " mean_bio          1.570389\n",
       " mean_watuse       2.269567\n",
       " mean_acid         0.735377\n",
       " sd_ghgs           2.405259\n",
       " sd_land           3.797897\n",
       " sd_watscar        3.771838\n",
       " sd_eut            3.207241\n",
       " sd_ghgs_ch4       1.714760\n",
       " sd_ghgs_n2o       1.999407\n",
       " sd_bio            1.723439\n",
       " sd_watuse         3.683660\n",
       " sd_acid           1.465092\n",
       " n_participants    1.795648\n",
       " dtype: float64}"
      ]
     },
     "execution_count": 3,
     "metadata": {},
     "output_type": "execute_result"
    }
   ],
   "source": [
    "# 1. Check for missing values\n",
    "missing_values = df_diet.isnull().sum()\n",
    "\n",
    "# 2. Check for duplicate rows\n",
    "duplicate_rows = df_diet.duplicated().sum()\n",
    "\n",
    "# 3. Basic description for numeric columns to detect outliers\n",
    "description = df_diet.describe()\n",
    "\n",
    "# 4. Check skewness of numeric columns\n",
    "skewness = df_diet.select_dtypes(include='number').skew()\n",
    "\n",
    "# Summarize everything\n",
    "{\n",
    "    \"Missing Values\": missing_values[missing_values > 0],\n",
    "    \"Number of Duplicate Rows\": duplicate_rows,\n",
    "    \"Description (for outlier detection)\": description,\n",
    "    \"Skewness\": skewness\n",
    "}\n"
   ]
  },
  {
   "cell_type": "code",
   "execution_count": 4,
   "id": "43fd174c-1911-4999-834b-5572b5511476",
   "metadata": {},
   "outputs": [
    {
     "name": "stdout",
     "output_type": "stream",
     "text": [
      "<class 'pandas.core.frame.DataFrame'>\n",
      "RangeIndex: 72000 entries, 0 to 71999\n",
      "Data columns (total 24 columns):\n",
      " #   Column          Non-Null Count  Dtype  \n",
      "---  ------          --------------  -----  \n",
      " 0   mc_run_id       72000 non-null  int64  \n",
      " 1   grouping        72000 non-null  object \n",
      " 2   mean_ghgs       72000 non-null  float64\n",
      " 3   mean_land       72000 non-null  float64\n",
      " 4   mean_watscar    72000 non-null  float64\n",
      " 5   mean_eut        72000 non-null  float64\n",
      " 6   mean_ghgs_ch4   72000 non-null  float64\n",
      " 7   mean_ghgs_n2o   72000 non-null  float64\n",
      " 8   mean_bio        72000 non-null  float64\n",
      " 9   mean_watuse     72000 non-null  float64\n",
      " 10  mean_acid       72000 non-null  float64\n",
      " 11  sd_ghgs         72000 non-null  float64\n",
      " 12  sd_land         72000 non-null  float64\n",
      " 13  sd_watscar      72000 non-null  float64\n",
      " 14  sd_eut          72000 non-null  float64\n",
      " 15  sd_ghgs_ch4     72000 non-null  float64\n",
      " 16  sd_ghgs_n2o     72000 non-null  float64\n",
      " 17  sd_bio          72000 non-null  float64\n",
      " 18  sd_watuse       72000 non-null  float64\n",
      " 19  sd_acid         72000 non-null  float64\n",
      " 20  n_participants  72000 non-null  int64  \n",
      " 21  sex             72000 non-null  object \n",
      " 22  diet_group      72000 non-null  object \n",
      " 23  age_group       72000 non-null  object \n",
      "dtypes: float64(18), int64(2), object(4)\n",
      "memory usage: 13.2+ MB\n"
     ]
    }
   ],
   "source": [
    "df_diet.info()"
   ]
  },
  {
   "cell_type": "code",
   "execution_count": 5,
   "id": "58efdd7b-520e-4905-ba1f-6477f38ac1a5",
   "metadata": {},
   "outputs": [],
   "source": [
    "# Dictionary to rename diet group labels\n",
    "diet_rename_map = {\n",
    "    'meat': 'Low meat-eaters ',\n",
    "    'meat50': 'Medium meat-eaters',\n",
    "    'meat100': 'High meat-eaters',\n",
    "    'vegan': 'Vegan',\n",
    "    'veggie': 'Vegetarians',\n",
    "    'fish': 'Fish eaters'\n",
    "}\n",
    "\n",
    "# Apply renaming\n",
    "df_diet['diet_group_clean'] = df_diet['diet_group'].replace(diet_rename_map)\n"
   ]
  },
  {
   "cell_type": "code",
   "execution_count": 6,
   "id": "f2155a93-3b6c-4933-aadf-54c0ae13c5a8",
   "metadata": {},
   "outputs": [
    {
     "data": {
      "text/html": [
       "<div>\n",
       "<style scoped>\n",
       "    .dataframe tbody tr th:only-of-type {\n",
       "        vertical-align: middle;\n",
       "    }\n",
       "\n",
       "    .dataframe tbody tr th {\n",
       "        vertical-align: top;\n",
       "    }\n",
       "\n",
       "    .dataframe thead th {\n",
       "        text-align: right;\n",
       "    }\n",
       "</style>\n",
       "<table border=\"1\" class=\"dataframe\">\n",
       "  <thead>\n",
       "    <tr style=\"text-align: right;\">\n",
       "      <th></th>\n",
       "      <th>diet_group</th>\n",
       "      <th>diet_group_clean</th>\n",
       "    </tr>\n",
       "  </thead>\n",
       "  <tbody>\n",
       "    <tr>\n",
       "      <th>0</th>\n",
       "      <td>fish</td>\n",
       "      <td>Fish eaters</td>\n",
       "    </tr>\n",
       "    <tr>\n",
       "      <th>1</th>\n",
       "      <td>fish</td>\n",
       "      <td>Fish eaters</td>\n",
       "    </tr>\n",
       "    <tr>\n",
       "      <th>2</th>\n",
       "      <td>fish</td>\n",
       "      <td>Fish eaters</td>\n",
       "    </tr>\n",
       "    <tr>\n",
       "      <th>3</th>\n",
       "      <td>fish</td>\n",
       "      <td>Fish eaters</td>\n",
       "    </tr>\n",
       "    <tr>\n",
       "      <th>4</th>\n",
       "      <td>fish</td>\n",
       "      <td>Fish eaters</td>\n",
       "    </tr>\n",
       "    <tr>\n",
       "      <th>...</th>\n",
       "      <td>...</td>\n",
       "      <td>...</td>\n",
       "    </tr>\n",
       "    <tr>\n",
       "      <th>71995</th>\n",
       "      <td>veggie</td>\n",
       "      <td>Vegetarians</td>\n",
       "    </tr>\n",
       "    <tr>\n",
       "      <th>71996</th>\n",
       "      <td>veggie</td>\n",
       "      <td>Vegetarians</td>\n",
       "    </tr>\n",
       "    <tr>\n",
       "      <th>71997</th>\n",
       "      <td>veggie</td>\n",
       "      <td>Vegetarians</td>\n",
       "    </tr>\n",
       "    <tr>\n",
       "      <th>71998</th>\n",
       "      <td>veggie</td>\n",
       "      <td>Vegetarians</td>\n",
       "    </tr>\n",
       "    <tr>\n",
       "      <th>71999</th>\n",
       "      <td>veggie</td>\n",
       "      <td>Vegetarians</td>\n",
       "    </tr>\n",
       "  </tbody>\n",
       "</table>\n",
       "<p>72000 rows × 2 columns</p>\n",
       "</div>"
      ],
      "text/plain": [
       "      diet_group diet_group_clean\n",
       "0           fish      Fish eaters\n",
       "1           fish      Fish eaters\n",
       "2           fish      Fish eaters\n",
       "3           fish      Fish eaters\n",
       "4           fish      Fish eaters\n",
       "...          ...              ...\n",
       "71995     veggie      Vegetarians\n",
       "71996     veggie      Vegetarians\n",
       "71997     veggie      Vegetarians\n",
       "71998     veggie      Vegetarians\n",
       "71999     veggie      Vegetarians\n",
       "\n",
       "[72000 rows x 2 columns]"
      ]
     },
     "execution_count": 6,
     "metadata": {},
     "output_type": "execute_result"
    }
   ],
   "source": [
    "df_diet[['diet_group', 'diet_group_clean']]"
   ]
  },
  {
   "cell_type": "markdown",
   "id": "0fe5b6d5-5acb-4779-8315-747c0cfd4264",
   "metadata": {},
   "source": [
    "## Visualization"
   ]
  },
  {
   "cell_type": "markdown",
   "id": "3e96ec29-c7db-467d-865a-6cf02bd45fdc",
   "metadata": {},
   "source": [
    "### Radar Chart"
   ]
  },
  {
   "cell_type": "code",
   "execution_count": 9,
   "id": "2d25c4c9-66d7-4e21-9985-e6a2179f273f",
   "metadata": {},
   "outputs": [
    {
     "data": {
      "application/vnd.plotly.v1+json": {
       "config": {
        "plotlyServerURL": "https://plot.ly"
       },
       "data": [
        {
         "fill": "toself",
         "hoverinfo": "text+name",
         "line": {
          "width": 2
         },
         "marker": {
          "size": 8,
          "symbol": "circle"
         },
         "mode": "lines+markers",
         "name": "High meat-eaters",
         "opacity": 1,
         "r": [
          1,
          1,
          1,
          1,
          1,
          1,
          1,
          1
         ],
         "theta": [
          "GHG Emissions",
          "Land Use",
          "Water Scarcity",
          "Eutrophication",
          "Biodiversity Loss",
          "Water Use",
          "Acidification",
          "GHG Emissions"
         ],
         "type": "scatterpolar"
        },
        {
         "fill": "toself",
         "hoverinfo": "text+name",
         "line": {
          "width": 2
         },
         "marker": {
          "size": 8,
          "symbol": "circle"
         },
         "mode": "lines+markers",
         "name": "Low meat-eaters ",
         "opacity": 0.9166666666666666,
         "r": [
          0.5606776304458697,
          0.43980763922469523,
          0.552816957256286,
          0.6122742314381064,
          0.6537459129207478,
          0.7894863008610864,
          0.636723066300861,
          0.5606776304458697
         ],
         "theta": [
          "GHG Emissions",
          "Land Use",
          "Water Scarcity",
          "Eutrophication",
          "Biodiversity Loss",
          "Water Use",
          "Acidification",
          "GHG Emissions"
         ],
         "type": "scatterpolar"
        },
        {
         "fill": "toself",
         "hoverinfo": "text+name",
         "line": {
          "width": 2
         },
         "marker": {
          "size": 8,
          "symbol": "circle"
         },
         "mode": "lines+markers",
         "name": "Medium meat-eaters",
         "opacity": 0.8333333333333334,
         "r": [
          0.36134703990053757,
          0.21292557602329243,
          0.3486062159556963,
          0.4097904868811927,
          0.4981515681730777,
          0.6338753861950553,
          0.4426886075384276,
          0.36134703990053757
         ],
         "theta": [
          "GHG Emissions",
          "Land Use",
          "Water Scarcity",
          "Eutrophication",
          "Biodiversity Loss",
          "Water Use",
          "Acidification",
          "GHG Emissions"
         ],
         "type": "scatterpolar"
        },
        {
         "fill": "toself",
         "hoverinfo": "text+name",
         "line": {
          "width": 2
         },
         "marker": {
          "size": 8,
          "symbol": "circle"
         },
         "mode": "lines+markers",
         "name": "Fish eaters",
         "opacity": 0.75,
         "r": [
          0.2860226947607054,
          0.12012826096989651,
          0.4527828997042024,
          0.33344863671015507,
          0.4468127604225251,
          0.6648863537219054,
          0.3553947583703778,
          0.2860226947607054
         ],
         "theta": [
          "GHG Emissions",
          "Land Use",
          "Water Scarcity",
          "Eutrophication",
          "Biodiversity Loss",
          "Water Use",
          "Acidification",
          "GHG Emissions"
         ],
         "type": "scatterpolar"
        },
        {
         "fill": "toself",
         "hoverinfo": "text+name",
         "line": {
          "width": 2
         },
         "marker": {
          "size": 8,
          "symbol": "circle"
         },
         "mode": "lines+markers",
         "name": "Vegetarians",
         "opacity": 0.6666666666666667,
         "r": [
          0.2162469755684704,
          0.10417321549355224,
          0.16113854494209823,
          0.20797498276288884,
          0.4317201197834621,
          0.22756219173806383,
          0.2861066773567908,
          0.2162469755684704
         ],
         "theta": [
          "GHG Emissions",
          "Land Use",
          "Water Scarcity",
          "Eutrophication",
          "Biodiversity Loss",
          "Water Use",
          "Acidification",
          "GHG Emissions"
         ],
         "type": "scatterpolar"
        },
        {
         "fill": "toself",
         "hoverinfo": "text+name",
         "line": {
          "width": 2
         },
         "marker": {
          "size": 8,
          "symbol": "circle"
         },
         "mode": "lines+markers",
         "name": "Vegan",
         "opacity": 0.5833333333333333,
         "r": [
          0,
          0,
          0,
          0,
          0,
          0,
          0,
          0
         ],
         "theta": [
          "GHG Emissions",
          "Land Use",
          "Water Scarcity",
          "Eutrophication",
          "Biodiversity Loss",
          "Water Use",
          "Acidification",
          "GHG Emissions"
         ],
         "type": "scatterpolar"
        }
       ],
       "layout": {
        "height": 800,
        "legend": {
         "itemclick": "toggle",
         "itemdoubleclick": "toggleothers"
        },
        "polar": {
         "angularaxis": {
          "type": "category"
         },
         "radialaxis": {
          "autorange": false,
          "range": [
           0,
           1
          ],
          "ticktext": [
           "0.00",
           "0.20",
           "0.40",
           "0.60",
           "0.80"
          ],
          "tickvals": [
           0,
           0.2,
           0.4,
           0.6,
           0.8
          ],
          "type": "linear",
          "visible": true
         }
        },
        "showlegend": true,
        "template": {
         "data": {
          "bar": [
           {
            "error_x": {
             "color": "#2a3f5f"
            },
            "error_y": {
             "color": "#2a3f5f"
            },
            "marker": {
             "line": {
              "color": "#E5ECF6",
              "width": 0.5
             },
             "pattern": {
              "fillmode": "overlay",
              "size": 10,
              "solidity": 0.2
             }
            },
            "type": "bar"
           }
          ],
          "barpolar": [
           {
            "marker": {
             "line": {
              "color": "#E5ECF6",
              "width": 0.5
             },
             "pattern": {
              "fillmode": "overlay",
              "size": 10,
              "solidity": 0.2
             }
            },
            "type": "barpolar"
           }
          ],
          "carpet": [
           {
            "aaxis": {
             "endlinecolor": "#2a3f5f",
             "gridcolor": "white",
             "linecolor": "white",
             "minorgridcolor": "white",
             "startlinecolor": "#2a3f5f"
            },
            "baxis": {
             "endlinecolor": "#2a3f5f",
             "gridcolor": "white",
             "linecolor": "white",
             "minorgridcolor": "white",
             "startlinecolor": "#2a3f5f"
            },
            "type": "carpet"
           }
          ],
          "choropleth": [
           {
            "colorbar": {
             "outlinewidth": 0,
             "ticks": ""
            },
            "type": "choropleth"
           }
          ],
          "contour": [
           {
            "colorbar": {
             "outlinewidth": 0,
             "ticks": ""
            },
            "colorscale": [
             [
              0,
              "#0d0887"
             ],
             [
              0.1111111111111111,
              "#46039f"
             ],
             [
              0.2222222222222222,
              "#7201a8"
             ],
             [
              0.3333333333333333,
              "#9c179e"
             ],
             [
              0.4444444444444444,
              "#bd3786"
             ],
             [
              0.5555555555555556,
              "#d8576b"
             ],
             [
              0.6666666666666666,
              "#ed7953"
             ],
             [
              0.7777777777777778,
              "#fb9f3a"
             ],
             [
              0.8888888888888888,
              "#fdca26"
             ],
             [
              1,
              "#f0f921"
             ]
            ],
            "type": "contour"
           }
          ],
          "contourcarpet": [
           {
            "colorbar": {
             "outlinewidth": 0,
             "ticks": ""
            },
            "type": "contourcarpet"
           }
          ],
          "heatmap": [
           {
            "colorbar": {
             "outlinewidth": 0,
             "ticks": ""
            },
            "colorscale": [
             [
              0,
              "#0d0887"
             ],
             [
              0.1111111111111111,
              "#46039f"
             ],
             [
              0.2222222222222222,
              "#7201a8"
             ],
             [
              0.3333333333333333,
              "#9c179e"
             ],
             [
              0.4444444444444444,
              "#bd3786"
             ],
             [
              0.5555555555555556,
              "#d8576b"
             ],
             [
              0.6666666666666666,
              "#ed7953"
             ],
             [
              0.7777777777777778,
              "#fb9f3a"
             ],
             [
              0.8888888888888888,
              "#fdca26"
             ],
             [
              1,
              "#f0f921"
             ]
            ],
            "type": "heatmap"
           }
          ],
          "heatmapgl": [
           {
            "colorbar": {
             "outlinewidth": 0,
             "ticks": ""
            },
            "colorscale": [
             [
              0,
              "#0d0887"
             ],
             [
              0.1111111111111111,
              "#46039f"
             ],
             [
              0.2222222222222222,
              "#7201a8"
             ],
             [
              0.3333333333333333,
              "#9c179e"
             ],
             [
              0.4444444444444444,
              "#bd3786"
             ],
             [
              0.5555555555555556,
              "#d8576b"
             ],
             [
              0.6666666666666666,
              "#ed7953"
             ],
             [
              0.7777777777777778,
              "#fb9f3a"
             ],
             [
              0.8888888888888888,
              "#fdca26"
             ],
             [
              1,
              "#f0f921"
             ]
            ],
            "type": "heatmapgl"
           }
          ],
          "histogram": [
           {
            "marker": {
             "pattern": {
              "fillmode": "overlay",
              "size": 10,
              "solidity": 0.2
             }
            },
            "type": "histogram"
           }
          ],
          "histogram2d": [
           {
            "colorbar": {
             "outlinewidth": 0,
             "ticks": ""
            },
            "colorscale": [
             [
              0,
              "#0d0887"
             ],
             [
              0.1111111111111111,
              "#46039f"
             ],
             [
              0.2222222222222222,
              "#7201a8"
             ],
             [
              0.3333333333333333,
              "#9c179e"
             ],
             [
              0.4444444444444444,
              "#bd3786"
             ],
             [
              0.5555555555555556,
              "#d8576b"
             ],
             [
              0.6666666666666666,
              "#ed7953"
             ],
             [
              0.7777777777777778,
              "#fb9f3a"
             ],
             [
              0.8888888888888888,
              "#fdca26"
             ],
             [
              1,
              "#f0f921"
             ]
            ],
            "type": "histogram2d"
           }
          ],
          "histogram2dcontour": [
           {
            "colorbar": {
             "outlinewidth": 0,
             "ticks": ""
            },
            "colorscale": [
             [
              0,
              "#0d0887"
             ],
             [
              0.1111111111111111,
              "#46039f"
             ],
             [
              0.2222222222222222,
              "#7201a8"
             ],
             [
              0.3333333333333333,
              "#9c179e"
             ],
             [
              0.4444444444444444,
              "#bd3786"
             ],
             [
              0.5555555555555556,
              "#d8576b"
             ],
             [
              0.6666666666666666,
              "#ed7953"
             ],
             [
              0.7777777777777778,
              "#fb9f3a"
             ],
             [
              0.8888888888888888,
              "#fdca26"
             ],
             [
              1,
              "#f0f921"
             ]
            ],
            "type": "histogram2dcontour"
           }
          ],
          "mesh3d": [
           {
            "colorbar": {
             "outlinewidth": 0,
             "ticks": ""
            },
            "type": "mesh3d"
           }
          ],
          "parcoords": [
           {
            "line": {
             "colorbar": {
              "outlinewidth": 0,
              "ticks": ""
             }
            },
            "type": "parcoords"
           }
          ],
          "pie": [
           {
            "automargin": true,
            "type": "pie"
           }
          ],
          "scatter": [
           {
            "fillpattern": {
             "fillmode": "overlay",
             "size": 10,
             "solidity": 0.2
            },
            "type": "scatter"
           }
          ],
          "scatter3d": [
           {
            "line": {
             "colorbar": {
              "outlinewidth": 0,
              "ticks": ""
             }
            },
            "marker": {
             "colorbar": {
              "outlinewidth": 0,
              "ticks": ""
             }
            },
            "type": "scatter3d"
           }
          ],
          "scattercarpet": [
           {
            "marker": {
             "colorbar": {
              "outlinewidth": 0,
              "ticks": ""
             }
            },
            "type": "scattercarpet"
           }
          ],
          "scattergeo": [
           {
            "marker": {
             "colorbar": {
              "outlinewidth": 0,
              "ticks": ""
             }
            },
            "type": "scattergeo"
           }
          ],
          "scattergl": [
           {
            "marker": {
             "colorbar": {
              "outlinewidth": 0,
              "ticks": ""
             }
            },
            "type": "scattergl"
           }
          ],
          "scattermapbox": [
           {
            "marker": {
             "colorbar": {
              "outlinewidth": 0,
              "ticks": ""
             }
            },
            "type": "scattermapbox"
           }
          ],
          "scatterpolar": [
           {
            "marker": {
             "colorbar": {
              "outlinewidth": 0,
              "ticks": ""
             }
            },
            "type": "scatterpolar"
           }
          ],
          "scatterpolargl": [
           {
            "marker": {
             "colorbar": {
              "outlinewidth": 0,
              "ticks": ""
             }
            },
            "type": "scatterpolargl"
           }
          ],
          "scatterternary": [
           {
            "marker": {
             "colorbar": {
              "outlinewidth": 0,
              "ticks": ""
             }
            },
            "type": "scatterternary"
           }
          ],
          "surface": [
           {
            "colorbar": {
             "outlinewidth": 0,
             "ticks": ""
            },
            "colorscale": [
             [
              0,
              "#0d0887"
             ],
             [
              0.1111111111111111,
              "#46039f"
             ],
             [
              0.2222222222222222,
              "#7201a8"
             ],
             [
              0.3333333333333333,
              "#9c179e"
             ],
             [
              0.4444444444444444,
              "#bd3786"
             ],
             [
              0.5555555555555556,
              "#d8576b"
             ],
             [
              0.6666666666666666,
              "#ed7953"
             ],
             [
              0.7777777777777778,
              "#fb9f3a"
             ],
             [
              0.8888888888888888,
              "#fdca26"
             ],
             [
              1,
              "#f0f921"
             ]
            ],
            "type": "surface"
           }
          ],
          "table": [
           {
            "cells": {
             "fill": {
              "color": "#EBF0F8"
             },
             "line": {
              "color": "white"
             }
            },
            "header": {
             "fill": {
              "color": "#C8D4E3"
             },
             "line": {
              "color": "white"
             }
            },
            "type": "table"
           }
          ]
         },
         "layout": {
          "annotationdefaults": {
           "arrowcolor": "#2a3f5f",
           "arrowhead": 0,
           "arrowwidth": 1
          },
          "autotypenumbers": "strict",
          "coloraxis": {
           "colorbar": {
            "outlinewidth": 0,
            "ticks": ""
           }
          },
          "colorscale": {
           "diverging": [
            [
             0,
             "#8e0152"
            ],
            [
             0.1,
             "#c51b7d"
            ],
            [
             0.2,
             "#de77ae"
            ],
            [
             0.3,
             "#f1b6da"
            ],
            [
             0.4,
             "#fde0ef"
            ],
            [
             0.5,
             "#f7f7f7"
            ],
            [
             0.6,
             "#e6f5d0"
            ],
            [
             0.7,
             "#b8e186"
            ],
            [
             0.8,
             "#7fbc41"
            ],
            [
             0.9,
             "#4d9221"
            ],
            [
             1,
             "#276419"
            ]
           ],
           "sequential": [
            [
             0,
             "#0d0887"
            ],
            [
             0.1111111111111111,
             "#46039f"
            ],
            [
             0.2222222222222222,
             "#7201a8"
            ],
            [
             0.3333333333333333,
             "#9c179e"
            ],
            [
             0.4444444444444444,
             "#bd3786"
            ],
            [
             0.5555555555555556,
             "#d8576b"
            ],
            [
             0.6666666666666666,
             "#ed7953"
            ],
            [
             0.7777777777777778,
             "#fb9f3a"
            ],
            [
             0.8888888888888888,
             "#fdca26"
            ],
            [
             1,
             "#f0f921"
            ]
           ],
           "sequentialminus": [
            [
             0,
             "#0d0887"
            ],
            [
             0.1111111111111111,
             "#46039f"
            ],
            [
             0.2222222222222222,
             "#7201a8"
            ],
            [
             0.3333333333333333,
             "#9c179e"
            ],
            [
             0.4444444444444444,
             "#bd3786"
            ],
            [
             0.5555555555555556,
             "#d8576b"
            ],
            [
             0.6666666666666666,
             "#ed7953"
            ],
            [
             0.7777777777777778,
             "#fb9f3a"
            ],
            [
             0.8888888888888888,
             "#fdca26"
            ],
            [
             1,
             "#f0f921"
            ]
           ]
          },
          "colorway": [
           "#636efa",
           "#EF553B",
           "#00cc96",
           "#ab63fa",
           "#FFA15A",
           "#19d3f3",
           "#FF6692",
           "#B6E880",
           "#FF97FF",
           "#FECB52"
          ],
          "font": {
           "color": "#2a3f5f"
          },
          "geo": {
           "bgcolor": "white",
           "lakecolor": "white",
           "landcolor": "#E5ECF6",
           "showlakes": true,
           "showland": true,
           "subunitcolor": "white"
          },
          "hoverlabel": {
           "align": "left"
          },
          "hovermode": "closest",
          "mapbox": {
           "style": "light"
          },
          "paper_bgcolor": "white",
          "plot_bgcolor": "#E5ECF6",
          "polar": {
           "angularaxis": {
            "gridcolor": "white",
            "linecolor": "white",
            "ticks": ""
           },
           "bgcolor": "#E5ECF6",
           "radialaxis": {
            "gridcolor": "white",
            "linecolor": "white",
            "ticks": ""
           }
          },
          "scene": {
           "xaxis": {
            "backgroundcolor": "#E5ECF6",
            "gridcolor": "white",
            "gridwidth": 2,
            "linecolor": "white",
            "showbackground": true,
            "ticks": "",
            "zerolinecolor": "white"
           },
           "yaxis": {
            "backgroundcolor": "#E5ECF6",
            "gridcolor": "white",
            "gridwidth": 2,
            "linecolor": "white",
            "showbackground": true,
            "ticks": "",
            "zerolinecolor": "white"
           },
           "zaxis": {
            "backgroundcolor": "#E5ECF6",
            "gridcolor": "white",
            "gridwidth": 2,
            "linecolor": "white",
            "showbackground": true,
            "ticks": "",
            "zerolinecolor": "white"
           }
          },
          "shapedefaults": {
           "line": {
            "color": "#2a3f5f"
           }
          },
          "ternary": {
           "aaxis": {
            "gridcolor": "white",
            "linecolor": "white",
            "ticks": ""
           },
           "baxis": {
            "gridcolor": "white",
            "linecolor": "white",
            "ticks": ""
           },
           "bgcolor": "#E5ECF6",
           "caxis": {
            "gridcolor": "white",
            "linecolor": "white",
            "ticks": ""
           }
          },
          "title": {
           "x": 0.05
          },
          "xaxis": {
           "automargin": true,
           "gridcolor": "white",
           "linecolor": "white",
           "ticks": "",
           "title": {
            "standoff": 15
           },
           "zerolinecolor": "white",
           "zerolinewidth": 2
          },
          "yaxis": {
           "automargin": true,
           "gridcolor": "white",
           "linecolor": "white",
           "ticks": "",
           "title": {
            "standoff": 15
           },
           "zerolinecolor": "white",
           "zerolinewidth": 2
          }
         }
        },
        "title": {
         "text": "Environmental Impact by Diet Group"
        },
        "width": 800
       }
      },
      "image/png": "[encoded data removed]",
      "text/html": [
       "<div>                            <div id=\"a9591ce5-ebac-48a3-b99a-38d840286d4b\" class=\"plotly-graph-div\" style=\"height:800px; width:800px;\"></div>            <script type=\"text/javascript\">                require([\"plotly\"], function(Plotly) {                    window.PLOTLYENV=window.PLOTLYENV || {};                                    if (document.getElementById(\"a9591ce5-ebac-48a3-b99a-38d840286d4b\")) {                    Plotly.newPlot(                        \"a9591ce5-ebac-48a3-b99a-38d840286d4b\",                        [{\"fill\":\"toself\",\"hoverinfo\":\"text+name\",\"line\":{\"width\":2},\"marker\":{\"size\":8,\"symbol\":\"circle\"},\"mode\":\"lines+markers\",\"name\":\"High meat-eaters\",\"opacity\":1.0,\"r\":[1.0,1.0,1.0,1.0,1.0,1.0,1.0,1.0],\"theta\":[\"GHG Emissions\",\"Land Use\",\"Water Scarcity\",\"Eutrophication\",\"Biodiversity Loss\",\"Water Use\",\"Acidification\",\"GHG Emissions\"],\"type\":\"scatterpolar\"},{\"fill\":\"toself\",\"hoverinfo\":\"text+name\",\"line\":{\"width\":2},\"marker\":{\"size\":8,\"symbol\":\"circle\"},\"mode\":\"lines+markers\",\"name\":\"Low meat-eaters \",\"opacity\":0.9166666666666666,\"r\":[0.5606776304458697,0.43980763922469523,0.552816957256286,0.6122742314381064,0.6537459129207478,0.7894863008610864,0.636723066300861,0.5606776304458697],\"theta\":[\"GHG Emissions\",\"Land Use\",\"Water Scarcity\",\"Eutrophication\",\"Biodiversity Loss\",\"Water Use\",\"Acidification\",\"GHG Emissions\"],\"type\":\"scatterpolar\"},{\"fill\":\"toself\",\"hoverinfo\":\"text+name\",\"line\":{\"width\":2},\"marker\":{\"size\":8,\"symbol\":\"circle\"},\"mode\":\"lines+markers\",\"name\":\"Medium meat-eaters\",\"opacity\":0.8333333333333334,\"r\":[0.36134703990053757,0.21292557602329243,0.3486062159556963,0.4097904868811927,0.4981515681730777,0.6338753861950553,0.4426886075384276,0.36134703990053757],\"theta\":[\"GHG Emissions\",\"Land Use\",\"Water Scarcity\",\"Eutrophication\",\"Biodiversity Loss\",\"Water Use\",\"Acidification\",\"GHG Emissions\"],\"type\":\"scatterpolar\"},{\"fill\":\"toself\",\"hoverinfo\":\"text+name\",\"line\":{\"width\":2},\"marker\":{\"size\":8,\"symbol\":\"circle\"},\"mode\":\"lines+markers\",\"name\":\"Fish eaters\",\"opacity\":0.75,\"r\":[0.2860226947607054,0.12012826096989651,0.4527828997042024,0.33344863671015507,0.4468127604225251,0.6648863537219054,0.3553947583703778,0.2860226947607054],\"theta\":[\"GHG Emissions\",\"Land Use\",\"Water Scarcity\",\"Eutrophication\",\"Biodiversity Loss\",\"Water Use\",\"Acidification\",\"GHG Emissions\"],\"type\":\"scatterpolar\"},{\"fill\":\"toself\",\"hoverinfo\":\"text+name\",\"line\":{\"width\":2},\"marker\":{\"size\":8,\"symbol\":\"circle\"},\"mode\":\"lines+markers\",\"name\":\"Vegetarians\",\"opacity\":0.6666666666666667,\"r\":[0.2162469755684704,0.10417321549355224,0.16113854494209823,0.20797498276288884,0.4317201197834621,0.22756219173806383,0.2861066773567908,0.2162469755684704],\"theta\":[\"GHG Emissions\",\"Land Use\",\"Water Scarcity\",\"Eutrophication\",\"Biodiversity Loss\",\"Water Use\",\"Acidification\",\"GHG Emissions\"],\"type\":\"scatterpolar\"},{\"fill\":\"toself\",\"hoverinfo\":\"text+name\",\"line\":{\"width\":2},\"marker\":{\"size\":8,\"symbol\":\"circle\"},\"mode\":\"lines+markers\",\"name\":\"Vegan\",\"opacity\":0.5833333333333333,\"r\":[0.0,0.0,0.0,0.0,0.0,0.0,0.0,0.0],\"theta\":[\"GHG Emissions\",\"Land Use\",\"Water Scarcity\",\"Eutrophication\",\"Biodiversity Loss\",\"Water Use\",\"Acidification\",\"GHG Emissions\"],\"type\":\"scatterpolar\"}],                        {\"template\":{\"data\":{\"histogram2dcontour\":[{\"type\":\"histogram2dcontour\",\"colorbar\":{\"outlinewidth\":0,\"ticks\":\"\"},\"colorscale\":[[0.0,\"#0d0887\"],[0.1111111111111111,\"#46039f\"],[0.2222222222222222,\"#7201a8\"],[0.3333333333333333,\"#9c179e\"],[0.4444444444444444,\"#bd3786\"],[0.5555555555555556,\"#d8576b\"],[0.6666666666666666,\"#ed7953\"],[0.7777777777777778,\"#fb9f3a\"],[0.8888888888888888,\"#fdca26\"],[1.0,\"#f0f921\"]]}],\"choropleth\":[{\"type\":\"choropleth\",\"colorbar\":{\"outlinewidth\":0,\"ticks\":\"\"}}],\"histogram2d\":[{\"type\":\"histogram2d\",\"colorbar\":{\"outlinewidth\":0,\"ticks\":\"\"},\"colorscale\":[[0.0,\"#0d0887\"],[0.1111111111111111,\"#46039f\"],[0.2222222222222222,\"#7201a8\"],[0.3333333333333333,\"#9c179e\"],[0.4444444444444444,\"#bd3786\"],[0.5555555555555556,\"#d8576b\"],[0.6666666666666666,\"#ed7953\"],[0.7777777777777778,\"#fb9f3a\"],[0.8888888888888888,\"#fdca26\"],[1.0,\"#f0f921\"]]}],\"heatmap\":[{\"type\":\"heatmap\",\"colorbar\":{\"outlinewidth\":0,\"ticks\":\"\"},\"colorscale\":[[0.0,\"#0d0887\"],[0.1111111111111111,\"#46039f\"],[0.2222222222222222,\"#7201a8\"],[0.3333333333333333,\"#9c179e\"],[0.4444444444444444,\"#bd3786\"],[0.5555555555555556,\"#d8576b\"],[0.6666666666666666,\"#ed7953\"],[0.7777777777777778,\"#fb9f3a\"],[0.8888888888888888,\"#fdca26\"],[1.0,\"#f0f921\"]]}],\"heatmapgl\":[{\"type\":\"heatmapgl\",\"colorbar\":{\"outlinewidth\":0,\"ticks\":\"\"},\"colorscale\":[[0.0,\"#0d0887\"],[0.1111111111111111,\"#46039f\"],[0.2222222222222222,\"#7201a8\"],[0.3333333333333333,\"#9c179e\"],[0.4444444444444444,\"#bd3786\"],[0.5555555555555556,\"#d8576b\"],[0.6666666666666666,\"#ed7953\"],[0.7777777777777778,\"#fb9f3a\"],[0.8888888888888888,\"#fdca26\"],[1.0,\"#f0f921\"]]}],\"contourcarpet\":[{\"type\":\"contourcarpet\",\"colorbar\":{\"outlinewidth\":0,\"ticks\":\"\"}}],\"contour\":[{\"type\":\"contour\",\"colorbar\":{\"outlinewidth\":0,\"ticks\":\"\"},\"colorscale\":[[0.0,\"#0d0887\"],[0.1111111111111111,\"#46039f\"],[0.2222222222222222,\"#7201a8\"],[0.3333333333333333,\"#9c179e\"],[0.4444444444444444,\"#bd3786\"],[0.5555555555555556,\"#d8576b\"],[0.6666666666666666,\"#ed7953\"],[0.7777777777777778,\"#fb9f3a\"],[0.8888888888888888,\"#fdca26\"],[1.0,\"#f0f921\"]]}],\"surface\":[{\"type\":\"surface\",\"colorbar\":{\"outlinewidth\":0,\"ticks\":\"\"},\"colorscale\":[[0.0,\"#0d0887\"],[0.1111111111111111,\"#46039f\"],[0.2222222222222222,\"#7201a8\"],[0.3333333333333333,\"#9c179e\"],[0.4444444444444444,\"#bd3786\"],[0.5555555555555556,\"#d8576b\"],[0.6666666666666666,\"#ed7953\"],[0.7777777777777778,\"#fb9f3a\"],[0.8888888888888888,\"#fdca26\"],[1.0,\"#f0f921\"]]}],\"mesh3d\":[{\"type\":\"mesh3d\",\"colorbar\":{\"outlinewidth\":0,\"ticks\":\"\"}}],\"scatter\":[{\"fillpattern\":{\"fillmode\":\"overlay\",\"size\":10,\"solidity\":0.2},\"type\":\"scatter\"}],\"parcoords\":[{\"type\":\"parcoords\",\"line\":{\"colorbar\":{\"outlinewidth\":0,\"ticks\":\"\"}}}],\"scatterpolargl\":[{\"type\":\"scatterpolargl\",\"marker\":{\"colorbar\":{\"outlinewidth\":0,\"ticks\":\"\"}}}],\"bar\":[{\"error_x\":{\"color\":\"#2a3f5f\"},\"error_y\":{\"color\":\"#2a3f5f\"},\"marker\":{\"line\":{\"color\":\"#E5ECF6\",\"width\":0.5},\"pattern\":{\"fillmode\":\"overlay\",\"size\":10,\"solidity\":0.2}},\"type\":\"bar\"}],\"scattergeo\":[{\"type\":\"scattergeo\",\"marker\":{\"colorbar\":{\"outlinewidth\":0,\"ticks\":\"\"}}}],\"scatterpolar\":[{\"type\":\"scatterpolar\",\"marker\":{\"colorbar\":{\"outlinewidth\":0,\"ticks\":\"\"}}}],\"histogram\":[{\"marker\":{\"pattern\":{\"fillmode\":\"overlay\",\"size\":10,\"solidity\":0.2}},\"type\":\"histogram\"}],\"scattergl\":[{\"type\":\"scattergl\",\"marker\":{\"colorbar\":{\"outlinewidth\":0,\"ticks\":\"\"}}}],\"scatter3d\":[{\"type\":\"scatter3d\",\"line\":{\"colorbar\":{\"outlinewidth\":0,\"ticks\":\"\"}},\"marker\":{\"colorbar\":{\"outlinewidth\":0,\"ticks\":\"\"}}}],\"scattermapbox\":[{\"type\":\"scattermapbox\",\"marker\":{\"colorbar\":{\"outlinewidth\":0,\"ticks\":\"\"}}}],\"scatterternary\":[{\"type\":\"scatterternary\",\"marker\":{\"colorbar\":{\"outlinewidth\":0,\"ticks\":\"\"}}}],\"scattercarpet\":[{\"type\":\"scattercarpet\",\"marker\":{\"colorbar\":{\"outlinewidth\":0,\"ticks\":\"\"}}}],\"carpet\":[{\"aaxis\":{\"endlinecolor\":\"#2a3f5f\",\"gridcolor\":\"white\",\"linecolor\":\"white\",\"minorgridcolor\":\"white\",\"startlinecolor\":\"#2a3f5f\"},\"baxis\":{\"endlinecolor\":\"#2a3f5f\",\"gridcolor\":\"white\",\"linecolor\":\"white\",\"minorgridcolor\":\"white\",\"startlinecolor\":\"#2a3f5f\"},\"type\":\"carpet\"}],\"table\":[{\"cells\":{\"fill\":{\"color\":\"#EBF0F8\"},\"line\":{\"color\":\"white\"}},\"header\":{\"fill\":{\"color\":\"#C8D4E3\"},\"line\":{\"color\":\"white\"}},\"type\":\"table\"}],\"barpolar\":[{\"marker\":{\"line\":{\"color\":\"#E5ECF6\",\"width\":0.5},\"pattern\":{\"fillmode\":\"overlay\",\"size\":10,\"solidity\":0.2}},\"type\":\"barpolar\"}],\"pie\":[{\"automargin\":true,\"type\":\"pie\"}]},\"layout\":{\"autotypenumbers\":\"strict\",\"colorway\":[\"#636efa\",\"#EF553B\",\"#00cc96\",\"#ab63fa\",\"#FFA15A\",\"#19d3f3\",\"#FF6692\",\"#B6E880\",\"#FF97FF\",\"#FECB52\"],\"font\":{\"color\":\"#2a3f5f\"},\"hovermode\":\"closest\",\"hoverlabel\":{\"align\":\"left\"},\"paper_bgcolor\":\"white\",\"plot_bgcolor\":\"#E5ECF6\",\"polar\":{\"bgcolor\":\"#E5ECF6\",\"angularaxis\":{\"gridcolor\":\"white\",\"linecolor\":\"white\",\"ticks\":\"\"},\"radialaxis\":{\"gridcolor\":\"white\",\"linecolor\":\"white\",\"ticks\":\"\"}},\"ternary\":{\"bgcolor\":\"#E5ECF6\",\"aaxis\":{\"gridcolor\":\"white\",\"linecolor\":\"white\",\"ticks\":\"\"},\"baxis\":{\"gridcolor\":\"white\",\"linecolor\":\"white\",\"ticks\":\"\"},\"caxis\":{\"gridcolor\":\"white\",\"linecolor\":\"white\",\"ticks\":\"\"}},\"coloraxis\":{\"colorbar\":{\"outlinewidth\":0,\"ticks\":\"\"}},\"colorscale\":{\"sequential\":[[0.0,\"#0d0887\"],[0.1111111111111111,\"#46039f\"],[0.2222222222222222,\"#7201a8\"],[0.3333333333333333,\"#9c179e\"],[0.4444444444444444,\"#bd3786\"],[0.5555555555555556,\"#d8576b\"],[0.6666666666666666,\"#ed7953\"],[0.7777777777777778,\"#fb9f3a\"],[0.8888888888888888,\"#fdca26\"],[1.0,\"#f0f921\"]],\"sequentialminus\":[[0.0,\"#0d0887\"],[0.1111111111111111,\"#46039f\"],[0.2222222222222222,\"#7201a8\"],[0.3333333333333333,\"#9c179e\"],[0.4444444444444444,\"#bd3786\"],[0.5555555555555556,\"#d8576b\"],[0.6666666666666666,\"#ed7953\"],[0.7777777777777778,\"#fb9f3a\"],[0.8888888888888888,\"#fdca26\"],[1.0,\"#f0f921\"]],\"diverging\":[[0,\"#8e0152\"],[0.1,\"#c51b7d\"],[0.2,\"#de77ae\"],[0.3,\"#f1b6da\"],[0.4,\"#fde0ef\"],[0.5,\"#f7f7f7\"],[0.6,\"#e6f5d0\"],[0.7,\"#b8e186\"],[0.8,\"#7fbc41\"],[0.9,\"#4d9221\"],[1,\"#276419\"]]},\"xaxis\":{\"gridcolor\":\"white\",\"linecolor\":\"white\",\"ticks\":\"\",\"title\":{\"standoff\":15},\"zerolinecolor\":\"white\",\"automargin\":true,\"zerolinewidth\":2},\"yaxis\":{\"gridcolor\":\"white\",\"linecolor\":\"white\",\"ticks\":\"\",\"title\":{\"standoff\":15},\"zerolinecolor\":\"white\",\"automargin\":true,\"zerolinewidth\":2},\"scene\":{\"xaxis\":{\"backgroundcolor\":\"#E5ECF6\",\"gridcolor\":\"white\",\"linecolor\":\"white\",\"showbackground\":true,\"ticks\":\"\",\"zerolinecolor\":\"white\",\"gridwidth\":2},\"yaxis\":{\"backgroundcolor\":\"#E5ECF6\",\"gridcolor\":\"white\",\"linecolor\":\"white\",\"showbackground\":true,\"ticks\":\"\",\"zerolinecolor\":\"white\",\"gridwidth\":2},\"zaxis\":{\"backgroundcolor\":\"#E5ECF6\",\"gridcolor\":\"white\",\"linecolor\":\"white\",\"showbackground\":true,\"ticks\":\"\",\"zerolinecolor\":\"white\",\"gridwidth\":2}},\"shapedefaults\":{\"line\":{\"color\":\"#2a3f5f\"}},\"annotationdefaults\":{\"arrowcolor\":\"#2a3f5f\",\"arrowhead\":0,\"arrowwidth\":1},\"geo\":{\"bgcolor\":\"white\",\"landcolor\":\"#E5ECF6\",\"subunitcolor\":\"white\",\"showland\":true,\"showlakes\":true,\"lakecolor\":\"white\"},\"title\":{\"x\":0.05},\"mapbox\":{\"style\":\"light\"}}},\"polar\":{\"radialaxis\":{\"visible\":true,\"range\":[0,1],\"tickvals\":[0.0,0.2,0.4,0.6,0.8],\"ticktext\":[\"0.00\",\"0.20\",\"0.40\",\"0.60\",\"0.80\"]}},\"legend\":{\"itemclick\":\"toggle\",\"itemdoubleclick\":\"toggleothers\"},\"width\":800,\"height\":800,\"title\":{\"text\":\"Environmental Impact by Diet Group\"},\"showlegend\":true},                        {\"responsive\": true}                    ).then(function(){\n",
       "                            \n",
       "var gd = document.getElementById('a9591ce5-ebac-48a3-b99a-38d840286d4b');\n",
       "var x = new MutationObserver(function (mutations, observer) {{\n",
       "        var display = window.getComputedStyle(gd).display;\n",
       "        if (!display || display === 'none') {{\n",
       "            console.log([gd, 'removed!']);\n",
       "            Plotly.purge(gd);\n",
       "            observer.disconnect();\n",
       "        }}\n",
       "}});\n",
       "\n",
       "// Listen for the removal of the full notebook cells\n",
       "var notebookContainer = gd.closest('#notebook-container');\n",
       "if (notebookContainer) {{\n",
       "    x.observe(notebookContainer, {childList: true});\n",
       "}}\n",
       "\n",
       "// Listen for the clearing of the current output cell\n",
       "var outputEl = gd.closest('.output');\n",
       "if (outputEl) {{\n",
       "    x.observe(outputEl, {childList: true});\n",
       "}}\n",
       "\n",
       "                        })                };                });            </script>        </div>"
      ]
     },
     "metadata": {},
     "output_type": "display_data"
    }
   ],
   "source": [
    "import plotly.graph_objects as go\n",
    "import pandas as pd\n",
    "import numpy as np\n",
    "\n",
    "# Group and normalize data\n",
    "impact_columns = ['mean_ghgs', 'mean_land', 'mean_watscar', 'mean_eut', 'mean_bio', 'mean_watuse', 'mean_acid']\n",
    "grouped_df = df_diet.groupby('diet_group_clean')[impact_columns].mean()\n",
    "\n",
    "# Normalize to 0-1\n",
    "normalized_df = (grouped_df - grouped_df.min()) / (grouped_df.max() - grouped_df.min())\n",
    "\n",
    "# Sort by total impact\n",
    "normalized_df['total_impact'] = normalized_df.sum(axis=1)\n",
    "sorted_df = normalized_df.sort_values(by='total_impact', ascending=False)\n",
    "sorted_df.drop(columns='total_impact', inplace=True)\n",
    "\n",
    "# Renamed labels\n",
    "label_renames = {\n",
    "    'mean_ghgs': 'GHG Emissions',\n",
    "    'mean_land': 'Land Use',\n",
    "    'mean_watscar': 'Water Scarcity',\n",
    "    'mean_eut': 'Eutrophication',\n",
    "    'mean_bio': 'Biodiversity Loss',\n",
    "    'mean_watuse': 'Water Use',\n",
    "    'mean_acid': 'Acidification'\n",
    "}\n",
    "categories = [label_renames[col] for col in impact_columns]\n",
    "categories += categories[:1]  # Close loop for radar\n",
    "\n",
    "# Create radar chart\n",
    "fig = go.Figure()\n",
    "\n",
    "for i, (group, row) in enumerate(sorted_df.iterrows()):\n",
    "    values = row.tolist()\n",
    "    values += values[:1]  # Close the loop\n",
    "\n",
    "    opacity = 1 - (i * 0.5 / len(sorted_df))  # Reduce opacity for less impactful diets\n",
    "\n",
    "    fig.add_trace(go.Scatterpolar(\n",
    "        r=values,\n",
    "        theta=categories,\n",
    "        name=group,\n",
    "        opacity=opacity,\n",
    "        fill='toself',\n",
    "        hoverinfo='text+name',\n",
    "        mode='lines+markers',\n",
    "        marker=dict(symbol='circle', size=8),\n",
    "        line=dict(width=2)\n",
    "    ))\n",
    "\n",
    "# Customize layout\n",
    "fig.update_layout(\n",
    "    width=800,\n",
    "    height=800,\n",
    "    polar=dict(\n",
    "        radialaxis=dict(\n",
    "            visible=True,\n",
    "            range=[0, 1],\n",
    "            tickvals=[0.0, 0.2, 0.4, 0.6, 0.8],\n",
    "            ticktext=[\"0.00\", \"0.20\", \"0.40\", \"0.60\", \"0.80\"]\n",
    "        )\n",
    "    ),\n",
    "    title=\"Environmental Impact by Diet Group\",\n",
    "    showlegend=True,\n",
    "    legend=dict(itemclick=\"toggle\", itemdoubleclick=\"toggleothers\")\n",
    ")\n",
    "\n",
    "fig.show()"
   ]
  },
  {
   "cell_type": "code",
   "execution_count": null,
   "id": "14d33ce1-ca48-457c-a8e2-383c764920bd",
   "metadata": {},
   "outputs": [],
   "source": [
    "\n"
   ]
  }
 ],
 "metadata": {
  "kernelspec": {
   "display_name": "Python 3 (ipykernel)",
   "language": "python",
   "name": "python3"
  },
  "language_info": {
   "codemirror_mode": {
    "name": "ipython",
    "version": 3
   },
   "file_extension": ".py",
   "mimetype": "text/x-python",
   "name": "python",
   "nbconvert_exporter": "python",
   "pygments_lexer": "ipython3",
   "version": "3.12.7"
  }
 },
 "nbformat": 4,
 "nbformat_minor": 5
}
